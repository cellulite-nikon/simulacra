{
 "cells": [
  {
   "cell_type": "code",
   "execution_count": 1,
   "id": "ae82eefd",
   "metadata": {},
   "outputs": [
    {
     "name": "stderr",
     "output_type": "stream",
     "text": [
      "2023-10-31 18:40:52.039 Python[6520:399804] WARNING: Secure coding is not enabled for restorable state! Enable secure coding by implementing NSApplicationDelegate.applicationSupportsSecureRestorableState: and returning YES.\n"
     ]
    }
   ],
   "source": [
    "import cv2\n",
    "\n",
    "#顔検出器の定義\n",
    "face_cascade_path = \"/Users/cellulite/Documents/opencv/simulacra_phenomenon/haarcascade_frontalface_default.xml\"\n",
    "\n",
    "#顔検出器の読み込み\n",
    "face_cascade = cv2.CascadeClassifier(face_cascade_path)\n",
    "\n",
    "#標本読み込み\n",
    "src = cv2.imread(\"sample.jpg\")\n",
    "\n",
    "#標本画像をグレースケール化\n",
    "src_gray = cv2.cvtColor(src, cv2.COLOR_BGR2GRAY)\n",
    "\n",
    "#顔検出\n",
    "faces = face_cascade.detectMultiScale(src_gray)\n",
    "\n",
    "#facesに格納された座標に長方形を描画\n",
    "for x, y, w, h in faces:\n",
    "    cv2.rectangle(src, (x, y), (x + w, y + h), (255, 0, 0), 2)\n",
    "    faces = face_cascade.detectMultiScale(src_gray)\n",
    "    face = src[y: y + h, x: x + w]\n",
    "    face_gray = src_gray[y: y + h, x: x + w]\n",
    "\n",
    "cv2.imwrite('sample_after.jpg', src)\n",
    "\n",
    "img = cv2.imread(\"sample.jpg\")\n",
    "cv2.imshow(\"sample_after\", img)\n",
    "cv2.waitKey(0)\n",
    "cv2.destroyAllWindows()"
   ]
  },
  {
   "cell_type": "code",
   "execution_count": 9,
   "id": "c5c90edf",
   "metadata": {},
   "outputs": [
    {
     "ename": "SyntaxError",
     "evalue": "invalid syntax (1926418098.py, line 3)",
     "output_type": "error",
     "traceback": [
      "\u001b[0;36m  Cell \u001b[0;32mIn[9], line 3\u001b[0;36m\u001b[0m\n\u001b[0;31m    opencv_createsamples -info positive.dat -vec positive.vec -num 100 -w 40 -h 40\u001b[0m\n\u001b[0m                               ^\u001b[0m\n\u001b[0;31mSyntaxError\u001b[0m\u001b[0;31m:\u001b[0m invalid syntax\n"
     ]
    }
   ],
   "source": [
    "import cv2\n",
    "# positive.vec作成コマンド\n",
    "opencv_createsamples -info positive.dat -vec positive.vec -num 100 -w 40 -h 40"
   ]
  },
  {
   "cell_type": "code",
   "execution_count": null,
   "id": "78bea109",
   "metadata": {},
   "outputs": [],
   "source": []
  },
  {
   "cell_type": "code",
   "execution_count": null,
   "id": "b9c8fe94",
   "metadata": {},
   "outputs": [],
   "source": []
  }
 ],
 "metadata": {
  "kernelspec": {
   "display_name": "Python 3 (ipykernel)",
   "language": "python",
   "name": "python3"
  },
  "language_info": {
   "codemirror_mode": {
    "name": "ipython",
    "version": 3
   },
   "file_extension": ".py",
   "mimetype": "text/x-python",
   "name": "python",
   "nbconvert_exporter": "python",
   "pygments_lexer": "ipython3",
   "version": "3.10.7"
  }
 },
 "nbformat": 4,
 "nbformat_minor": 5
}
